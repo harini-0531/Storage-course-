{
  "nbformat": 4,
  "nbformat_minor": 0,
  "metadata": {
    "colab": {
      "provenance": []
    },
    "kernelspec": {
      "name": "python3",
      "display_name": "Python 3"
    },
    "language_info": {
      "name": "python"
    }
  },
  "cells": [
    {
      "cell_type": "markdown",
      "source": [],
      "metadata": {
        "id": "J1MZqrUBAE5D"
      }
    },
    {
      "cell_type": "markdown",
      "source": [
        "1.Load the datasets"
      ],
      "metadata": {
        "id": "9f36wLPCAI3y"
      }
    },
    {
      "cell_type": "code",
      "source": [
        "import numpy as np\n",
        "import pandas as pd\n",
        "import seaborn as sns\n",
        "import matplotlib.pyplot as plt\n",
        "import seaborn as sns\n",
        "from sklearn import preprocessing\n",
        "from sklearn.model_selection import train_test_split\n",
        "from sklearn.ensemble import RandomForestClassifier\n",
        "from sklearn.linear_model import LogisticRegression\n",
        "from sklearn.preprocessing import StandardScaler\n",
        "from sklearn.decomposition import PCA\n",
        "from sklearn import ensemble\n",
        "from sklearn.metrics import mean_squared_error\n",
        "from google.colab import files\n",
        "uploaded = files.upload()"
      ],
      "metadata": {
        "id": "NHVg3DPMAQ-6"
      },
      "execution_count": null,
      "outputs": []
    },
    {
      "cell_type": "code",
      "source": [
        "house_data=pd.read_csv('data.csv')\n",
        "house_data.head()"
      ],
      "metadata": {
        "id": "CLgnA48jAYVf"
      },
      "execution_count": null,
      "outputs": []
    },
    {
      "cell_type": "code",
      "source": [
        "house_data.describe()"
      ],
      "metadata": {
        "id": "UL0fyhIHAcUL"
      },
      "execution_count": null,
      "outputs": []
    },
    {
      "cell_type": "code",
      "source": [
        "house_data.info()"
      ],
      "metadata": {
        "id": "9KVpXr4tAlIw"
      },
      "execution_count": null,
      "outputs": []
    },
    {
      "cell_type": "code",
      "source": [
        "house_data.shape"
      ],
      "metadata": {
        "id": "HuPvQj_dAqaf"
      },
      "execution_count": null,
      "outputs": []
    },
    {
      "cell_type": "code",
      "source": [
        "house_data.columns"
      ],
      "metadata": {
        "id": "ICAdx59lAuo3"
      },
      "execution_count": null,
      "outputs": []
    },
    {
      "cell_type": "markdown",
      "source": [
        "2.Data Description"
      ],
      "metadata": {
        "id": "r6iqdDW5A1gk"
      }
    },
    {
      "cell_type": "markdown",
      "source": [
        "i) Handling Missing Data"
      ],
      "metadata": {
        "id": "W6Fqeo1wA6FJ"
      }
    },
    {
      "cell_type": "code",
      "source": [
        "house_data.isna().sum()"
      ],
      "metadata": {
        "id": "TSfvRYv2A_u4"
      },
      "execution_count": null,
      "outputs": []
    },
    {
      "cell_type": "markdown",
      "source": [
        "ii) Duplicate records"
      ],
      "metadata": {
        "id": "bfKr-H4RBJEa"
      }
    },
    {
      "cell_type": "code",
      "source": [
        "house_data.duplicated().sum()"
      ],
      "metadata": {
        "id": "qqnyXXaiBPml"
      },
      "execution_count": null,
      "outputs": []
    },
    {
      "cell_type": "markdown",
      "source": [
        "iii)Treat and Detect Outliers"
      ],
      "metadata": {
        "id": "pbncaf0ZBTet"
      }
    },
    {
      "cell_type": "code",
      "source": [
        "def remove_outliers(df,column) :\n",
        "    Q1 = df[column].quantile(0.25)\n",
        "    Q3= df[column].quantile(0.75)\n",
        "    IQR = Q3-Q1\n",
        "    lower = Q1-IQR*1.5\n",
        "    upper = Q3+IQR*1.5\n",
        "    return df[(df[column]>=lower) & (df[column]<=upper)]"
      ],
      "metadata": {
        "id": "1KBxumV1BZzk"
      },
      "execution_count": null,
      "outputs": []
    },
    {
      "cell_type": "markdown",
      "source": [
        "iv)Convert datatypes and Ensure Consistency"
      ],
      "metadata": {
        "id": "_z3ROxckBfo5"
      }
    },
    {
      "cell_type": "code",
      "source": [
        "house_data.dtypes"
      ],
      "metadata": {
        "id": "1_G64BgwBomr"
      },
      "execution_count": null,
      "outputs": []
    },
    {
      "cell_type": "markdown",
      "source": [
        "v)Encode Categorical Values"
      ],
      "metadata": {
        "id": "9BCH5ATaBsw0"
      }
    },
    {
      "cell_type": "code",
      "source": [
        "y = house_data['price']\n",
        "X = house_data.drop('price', axis=1)\n",
        "categorical_cols = X.select_dtypes(include=['object']).columns.tolist()\n",
        "from sklearn.model_selection import train_test_split\n",
        "X_train, X_test, y_train, y_test = train_test_split(X, y, test_size=0.2, random_state=42)\n",
        "from sklearn.preprocessing import OneHotEncoder\n",
        "encoder = OneHotEncoder(drop='first', sparse_output=False, handle_unknown='ignore')\n",
        "X_train_cat = pd.DataFrame(encoder.fit_transform(X_train[categorical_cols]),\n",
        "                           columns=encoder.get_feature_names_out(categorical_cols),\n",
        "                           index=X_train.index)\n",
        "X_test_cat = pd.DataFrame(encoder.transform(X_test[categorical_cols]),\n",
        "                          columns=encoder.get_feature_names_out(categorical_cols),index=X_test.index)"
      ],
      "metadata": {
        "id": "ffCeH9TuBzm1"
      },
      "execution_count": null,
      "outputs": []
    },
    {
      "cell_type": "markdown",
      "source": [
        "vi)Normalize or Standardize features"
      ],
      "metadata": {
        "id": "vNbL90E9CjFB"
      }
    },
    {
      "cell_type": "code",
      "source": [
        "from sklearn.model_selection import train_test_split\n",
        "X_train, X_test, y_train, y_test = train_test_split(X,y,test_size=0.2,random_state=42)\n",
        "X_train.shape,X_test.shape\n",
        "scaler = StandardScaler()\n",
        "x_train = scaler.fit_transform(X_train.select_dtypes(exclude=['object']))\n",
        "x_test = scaler.transform(X_test.select_dtypes(exclude=['object']))"
      ],
      "metadata": {
        "id": "gTBO0pXjCpCU"
      },
      "execution_count": null,
      "outputs": []
    },
    {
      "cell_type": "markdown",
      "source": [
        "3.Exploratory Data Analysis(EDA)"
      ],
      "metadata": {
        "id": "G7UYBZMoC0K8"
      }
    },
    {
      "cell_type": "markdown",
      "source": [
        "a) Univariate Analysis"
      ],
      "metadata": {
        "id": "28ahQ6h2C_oo"
      }
    },
    {
      "cell_type": "markdown",
      "source": [
        "i) Histogram"
      ],
      "metadata": {
        "id": "e4QALnCmDH4n"
      }
    },
    {
      "cell_type": "code",
      "source": [
        "house_data.hist(figsize=(20,30))\n",
        "plt.show()"
      ],
      "metadata": {
        "id": "JYi27V2PDOvV"
      },
      "execution_count": null,
      "outputs": []
    },
    {
      "cell_type": "markdown",
      "source": [
        "ii) Barplot"
      ],
      "metadata": {
        "id": "A8GiAJ0NDSgv"
      }
    },
    {
      "cell_type": "code",
      "source": [
        "house_data.city.value_counts().plot(kind='bar', figsize=(12,5))\n",
        "plt.show()"
      ],
      "metadata": {
        "id": "Bh02unw5DWW6"
      },
      "execution_count": null,
      "outputs": []
    },
    {
      "cell_type": "markdown",
      "source": [
        "b) Bivariate/Multivariate Analysis"
      ],
      "metadata": {
        "id": "aBWwjPY3Dclx"
      }
    },
    {
      "cell_type": "markdown",
      "source": [
        "i) Correlation Matrix"
      ],
      "metadata": {
        "id": "fYMDiR-DDiSx"
      }
    },
    {
      "cell_type": "code",
      "source": [
        "numeric_columns = house_data.select_dtypes(include=['float64', 'int64'])\n",
        "correlation_matrix = numeric_columns.corr()\n",
        "plt.figure(figsize=(10, 8))\n",
        "sns.heatmap(correlation_matrix, annot=True, cmap='coolwarm', fmt=\".2f\")\n",
        "plt.title('Correlation Matrix')\n",
        "plt.show()"
      ],
      "metadata": {
        "id": "fV6ZVW1DDk21"
      },
      "execution_count": null,
      "outputs": []
    },
    {
      "cell_type": "markdown",
      "source": [
        "ii) Pairplot"
      ],
      "metadata": {
        "id": "QUJblf1fDox5"
      }
    },
    {
      "cell_type": "code",
      "source": [
        "plt.figure(figsize=(25, 5))\n",
        "sns.pairplot(house_data)\n",
        "plt.show()"
      ],
      "metadata": {
        "id": "J3ZtIKzGDtaC"
      },
      "execution_count": null,
      "outputs": []
    },
    {
      "cell_type": "markdown",
      "source": [
        "iii) Scatterplot"
      ],
      "metadata": {
        "id": "_Gnw28wnDwrB"
      }
    },
    {
      "cell_type": "code",
      "source": [
        "sns.scatterplot(x='price', y='floors', data=house_data)"
      ],
      "metadata": {
        "id": "QWgYR1WlD0QE"
      },
      "execution_count": null,
      "outputs": []
    },
    {
      "cell_type": "markdown",
      "source": [
        "C) Analysis of relationship"
      ],
      "metadata": {
        "id": "qDw4ln2sD-sw"
      }
    },
    {
      "cell_type": "code",
      "source": [
        "feature_names = house_data.drop(columns=['price','country']).columns.to_numpy()\n",
        "for col in feature_names :\n",
        "                                plt.figure(figsize=(18, 8))\n",
        "                                plt.bar(house_data[col], house_data['price'], color='skyblue')\n",
        "                                plt.xlabel(col)\n",
        "                                plt.xticks(rotation=90)\n",
        "                                plt.ylabel('Price')\n",
        "                                plt.title(f'Price vs {col}')\n",
        "                                plt.show()\n",
        "                                plt.bar(house_data[col], house_data['price'], color='skyblue')\n",
        "                                plt.xlabel(col)\n",
        "                                plt.xticks(rotation=90)\n",
        "                                plt.ylabel('Price')\n",
        "                                plt.title(f'Price vs {col}')\n",
        "                                plt.show()"
      ],
      "metadata": {
        "id": "ZFJU4UV8ECuJ"
      },
      "execution_count": null,
      "outputs": []
    },
    {
      "cell_type": "markdown",
      "source": [
        "4.Feature Engineering"
      ],
      "metadata": {
        "id": "W0pbCEJ3EKMf"
      }
    },
    {
      "cell_type": "markdown",
      "source": [
        "i) Features based on EDA insights"
      ],
      "metadata": {
        "id": "9fy9aEaFEzZm"
      }
    },
    {
      "cell_type": "code",
      "source": [
        "if 'yr_built' in house_data.columns:\n",
        "                       house_data['house_age'] = 2025 - house_data['yr_built']"
      ],
      "metadata": {
        "id": "VvXKBrnGFVni"
      },
      "execution_count": null,
      "outputs": []
    },
    {
      "cell_type": "markdown",
      "source": [
        "ii) Split columns"
      ],
      "metadata": {
        "id": "yheKJ1F_Fa8Z"
      }
    },
    {
      "cell_type": "code",
      "source": [
        "if 'state' in house_data.columns:\n",
        "    house_data.rename(columns={'state': 'State'}, inplace=True)\n",
        "    house_data[['Country', 'City', 'State']] = house_data['State'].str.split(' , ', expand=True)\n",
        "else:\n",
        "    print(\"Column 'state' not found in the DataFrame.\")"
      ],
      "metadata": {
        "id": "nsdBvojGFe-U"
      },
      "execution_count": null,
      "outputs": []
    },
    {
      "cell_type": "markdown",
      "source": [
        "iii) Polynomial Features"
      ],
      "metadata": {
        "id": "Htf2Nb1ZFkzs"
      }
    },
    {
      "cell_type": "code",
      "source": [
        "from sklearn.preprocessing import PolynomialFeatures\n",
        "Pf=PolynomialFeatures(degree=2,interaction_only=False, include_bias=False)"
      ],
      "metadata": {
        "id": "i-fFRkPiFo11"
      },
      "execution_count": null,
      "outputs": []
    },
    {
      "cell_type": "markdown",
      "source": [
        "iv) Dimensionality Reduction(PCA)"
      ],
      "metadata": {
        "id": "RakqbUrmFxQ3"
      }
    },
    {
      "cell_type": "code",
      "source": [
        "X['date'] = pd.to_datetime(X['date']).apply(lambda date: date.toordinal())\n",
        "categorical_cols = X.select_dtypes(include=['object']).columns.tolist()\n",
        "from sklearn.preprocessing import OneHotEncoder\n",
        "encoder = OneHotEncoder(sparse_output=False, handle_unknown='ignore')\n",
        "X_encoded = pd.DataFrame(encoder.fit_transform(X[categorical_cols]))\n",
        "X_encoded.columns = encoder.get_feature_names_out(categorical_cols)\n",
        "X = X.drop(columns=categorical_cols, axis=1)\n",
        "X = pd.concat([X, X_encoded], axis=1)\n",
        "X.columns = X.columns.astype(str)\n",
        "pca = PCA(n_components=2)\n",
        "X_pca = pca.fit_transform(X)"
      ],
      "metadata": {
        "id": "PywUIHq_F4Z8"
      },
      "execution_count": null,
      "outputs": []
    },
    {
      "cell_type": "markdown",
      "source": [
        "5.Model Building"
      ],
      "metadata": {
        "id": "pEHBbWN4F8qF"
      }
    },
    {
      "cell_type": "markdown",
      "source": [
        "a) Machine Training Models"
      ],
      "metadata": {
        "id": "7wv30LhDGANE"
      }
    },
    {
      "cell_type": "markdown",
      "source": [
        "i) Linear Regression"
      ],
      "metadata": {
        "id": "8-hIYYASGEso"
      }
    },
    {
      "cell_type": "code",
      "source": [
        "from sklearn.linear_model import LogisticRegression\n",
        "model=LogisticRegression()\n",
        "model.fit(X_train,y_train)"
      ],
      "metadata": {
        "id": "eKYcb47eGKna"
      },
      "execution_count": null,
      "outputs": []
    },
    {
      "cell_type": "markdown",
      "source": [
        "ii) Random Forest Regressor"
      ],
      "metadata": {
        "id": "hvN9AmYUGQLR"
      }
    },
    {
      "cell_type": "code",
      "source": [
        "from sklearn.ensemble import RandomForestRegressor\n",
        "reg = RandomForestRegressor()\n",
        "reg.fit(X_train, y_train)"
      ],
      "metadata": {
        "id": "yPh1ICVQGWNU"
      },
      "execution_count": null,
      "outputs": []
    },
    {
      "cell_type": "markdown",
      "source": [
        "iii) Train model using MAE,RMSE,R^2"
      ],
      "metadata": {
        "id": "zJLeg_aYIq_W"
      }
    },
    {
      "cell_type": "code",
      "source": [
        "categorical_cols = X.select_dtypes(include=['object']).columns.tolist()\n",
        "from sklearn.preprocessing import OneHotEncoder\n",
        "encoder = OneHotEncoder(sparse_output=False, handle_unknown='ignore')\n",
        "X_encoded = pd.DataFrame(encoder.fit_transform(X[categorical_cols]))\n",
        "X_encoded.columns = encoder.get_feature_names_out(categorical_cols)\n",
        "X = X.drop(columns=categorical_cols, axis=1)\n",
        "X = pd.concat([X, X_encoded], axis=1)\n",
        "X.columns = X.columns.astype(str)\n",
        "X['date'] = pd.to_datetime(X['date']).apply(lambda date: date.toordinal())\n",
        "from sklearn.model_selection import train_test_split\n",
        "X_train, X_test, y_train, y_test = train_test_split(X, y, test_size=0.2, random_state=42)\n",
        "from sklearn.ensemble import RandomForestRegressor\n",
        "reg = RandomForestRegressor()\n",
        "reg.fit(X_train, y_train)\n",
        "y_pred = reg.predict(X_test)\n",
        "from sklearn.metrics import mean_absolute_error, mean_squared_error, r2_score\n",
        "mae = mean_absolute_error(y_test, y_pred)\n",
        "rmse = np.sqrt(mean_squared_error(y_test, y_pred))\n",
        "r2 = r2_score(y_test, y_pred)\n",
        "print(f\"MAE: {mae}\")\n",
        "print(f\"RMSE: {rmse}\")\n",
        "print(f\"R² Score: {r2}\")"
      ],
      "metadata": {
        "id": "jjL5PK8TI7I2"
      },
      "execution_count": null,
      "outputs": []
    },
    {
      "cell_type": "markdown",
      "source": [
        "9.Visualization of Results and Model Insights"
      ],
      "metadata": {
        "id": "HN8tsFR-I_ds"
      }
    },
    {
      "cell_type": "markdown",
      "source": [
        "a) Model Behaviour"
      ],
      "metadata": {
        "id": "AXqr3P31JPkT"
      }
    },
    {
      "cell_type": "markdown",
      "source": [
        "i) Residual Plots"
      ],
      "metadata": {
        "id": "Sxtm-AjhJR-C"
      }
    },
    {
      "cell_type": "code",
      "source": [
        "def plot_residuals(y_true, y_pred, model_name):\n",
        "                                 residuals = y_true - y_pred\n",
        "                                 plt.figure(figsize=(8, 5))\n",
        "                                 sns.histplot(residuals, kde=True, color='purple')\n",
        "                                 plt.title(f\"{model_name} Residuals\")\n",
        "                                 plt.xlabel(\"Residual\")\n",
        "                                 plt.grid(True)\n",
        "                                 plt.show()"
      ],
      "metadata": {
        "id": "M_Os-mVhJVxi"
      },
      "execution_count": null,
      "outputs": []
    },
    {
      "cell_type": "markdown",
      "source": [
        "ii) Feature Importantance Plot"
      ],
      "metadata": {
        "id": "UsTVIT1ZJd4x"
      }
    },
    {
      "cell_type": "code",
      "source": [
        "importances = reg.feature_importances_\n",
        "features = X_train.columns\n",
        "sns.barplot(x=importances, y=features)\n",
        "plt.title(\"Feature Importance\")\n",
        "plt.show()"
      ],
      "metadata": {
        "id": "_WvgLQgBJkaJ"
      },
      "execution_count": null,
      "outputs": []
    },
    {
      "cell_type": "markdown",
      "source": [
        "iii) Visual comparision of Model Performance"
      ],
      "metadata": {
        "id": "U6r17By5JpgF"
      }
    },
    {
      "cell_type": "code",
      "source": [
        "import pandas as pd\n",
        "import numpy as np\n",
        "import matplotlib.pyplot as plt\n",
        "import seaborn as sns\n",
        "from sklearn.model_selection import train_test_split\n",
        "from sklearn.linear_model import LinearRegression\n",
        "from sklearn.ensemble import RandomForestRegressor\n",
        "from xgboost import XGBRegressor\n",
        "from sklearn.metrics import mean_absolute_error, mean_squared_error, r2_score\n",
        "X_train, X_test, y_train, y_test = train_test_split(X, y, test_size=0.2, random_state=42)\n",
        "lr = LinearRegression()\n",
        "lr.fit(X_train, y_train)\n",
        "y_pred_lr = lr.predict(X_test)\n",
        "mae_lr = mean_absolute_error(y_test, y_pred_lr)\n",
        "rmse_lr = np.sqrt(mean_squared_error(y_test, y_pred_lr))\n",
        "r2_lr = r2_score(y_test, y_pred_lr)\n",
        "\n",
        "rf = RandomForestRegressor()\n",
        "rf.fit(X_train, y_train)\n",
        "y_pred_rf = rf.predict(X_test)\n",
        "mae_rf = mean_absolute_error(y_test, y_pred_rf)\n",
        "rmse_rf = np.sqrt(mean_squared_error(y_test, y_pred_rf))\n",
        "r2_rf = r2_score(y_test, y_pred_rf)\n",
        "xgb = XGBRegressor()\n",
        "xgb.fit(X_train, y_train)\n",
        "y_pred_xgb = xgb.predict(X_test)\n",
        "mae_xgb = mean_absolute_error(y_test, y_pred_xgb)\n",
        "rmse_xgb = np.sqrt(mean_squared_error(y_test, y_pred_xgb))\n",
        "r2_xgb = r2_score(y_test, y_pred_xgb)\n",
        "results = pd.DataFrame({\n",
        "    'Model': ['Linear', 'Random Forest', 'XGBoost'],\n",
        "    'MAE': [mae_lr, mae_rf, mae_xgb],\n",
        "    'RMSE': [rmse_lr, rmse_rf, rmse_xgb],\n",
        "    'R²': [r2_lr, r2_rf, r2_xgb]\n",
        "})\n",
        "results.plot(x='Model', kind='bar', figsize=(10, 6))\n",
        "plt.title(\"Model Performance Comparison\")\n",
        "plt.ylabel(\"Score\")\n",
        "plt.xticks(rotation=0)\n",
        "plt.show()"
      ],
      "metadata": {
        "id": "vv59orBhJzaQ"
      },
      "execution_count": null,
      "outputs": []
    }
  ]
}